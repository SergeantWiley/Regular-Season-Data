{
 "cells": [
  {
   "cell_type": "markdown",
   "metadata": {},
   "source": [
    "# Nba Regular Season 2018-19 Data Challenge\n",
    "\n",
    "Your task will be to take the dataset given, and create an analysis answering the following 10 questions. This project will again test your knowledge of pandas in order to find the answers needed given the data you are presented with."
   ]
  },
  {
   "cell_type": "markdown",
   "metadata": {},
   "source": [
    "# What was the average age of player in the league?"
   ]
  },
  {
   "cell_type": "code",
   "execution_count": 8,
   "metadata": {},
   "outputs": [
    {
     "name": "stdout",
     "output_type": "stream",
     "text": [
      "25.900191938579656\n"
     ]
    }
   ],
   "source": [
    "import pandas as pd\n",
    "df = pd.read_csv('nbastats2018-2019.csv')\n",
    "print(df['Age'].mean())\n"
   ]
  },
  {
   "cell_type": "markdown",
   "metadata": {},
   "source": [
    "# What player scored the most points?"
   ]
  },
  {
   "cell_type": "code",
   "execution_count": 23,
   "metadata": {},
   "outputs": [
    {
     "name": "stdout",
     "output_type": "stream",
     "text": [
      "Name      James Harden\n",
      "Points            36.1\n",
      "Name: 202, dtype: object\n"
     ]
    }
   ],
   "source": [
    "import pandas as pd\n",
    "df = pd.read_csv('nbastats2018-2019.csv') # Load Dataframe\n",
    "isolated_df = df[['Name', 'Points']] #\n",
    "max_index = isolated_df['Points'].idxmax()\n",
    "max_points = isolated_df.loc[max_index]\n",
    "print(max_points)\n",
    "# Load dataframe\n",
    "# Seperate Name and Points\n",
    "# find max points\n",
    "# locate name based off max points\n",
    "# output max points"
   ]
  },
  {
   "cell_type": "markdown",
   "metadata": {},
   "source": [
    "# What player had the most blocks during the season? Was it a post player (F/C)?"
   ]
  },
  {
   "cell_type": "code",
   "execution_count": 2,
   "metadata": {},
   "outputs": [
    {
     "name": "stdout",
     "output_type": "stream",
     "text": [
      "Name      Myles Turner\n",
      "Blocks             2.7\n",
      "Name: 476, dtype: object\n"
     ]
    }
   ],
   "source": [
    "import pandas as pd\n",
    "df = pd.read_csv('nbastats2018-2019.csv')\n",
    "isolated_df = df[['Name', 'Blocks']]\n",
    "max_index = isolated_df['Blocks'].idxmax()\n",
    "max_blocks = isolated_df.loc[max_index]\n",
    "print(max_blocks)\n"
   ]
  },
  {
   "cell_type": "markdown",
   "metadata": {},
   "source": [
    "# Based on the regular season, who had the best chance to win a title given their win percentage?"
   ]
  },
  {
   "cell_type": "code",
   "execution_count": 44,
   "metadata": {},
   "outputs": [
    {
     "name": "stdout",
     "output_type": "stream",
     "text": [
      "James Harden\n"
     ]
    }
   ],
   "source": [
    "#Win percentage is equal to WS\n",
    "isolated_df = df[['Name', 'WS']] #\n",
    "max_win = isolated_df['WS'].idxmax()\n",
    "max_points = isolated_df.loc[max_win,'Name']\n",
    "print(max_points)"
   ]
  },
  {
   "cell_type": "markdown",
   "metadata": {},
   "source": [
    "# What player had the best 3-pt percentage? "
   ]
  },
  {
   "cell_type": "code",
   "execution_count": 4,
   "metadata": {},
   "outputs": [
    {
     "name": "stdout",
     "output_type": "stream",
     "text": [
      "Trevon Duval\n"
     ]
    }
   ],
   "source": [
    "isolated_df = df[['Name', 'FG3%']] #\n",
    "max_3pt = isolated_df['FG3%'].idxmax()\n",
    "max_points = isolated_df.loc[max_3pt,'Name']\n",
    "print(max_points)"
   ]
  },
  {
   "cell_type": "markdown",
   "metadata": {},
   "source": [
    "# Who played the most minutes during the season"
   ]
  },
  {
   "cell_type": "code",
   "execution_count": null,
   "metadata": {},
   "outputs": [],
   "source": [
    "isolated_df = df[['Name', 'MP']] #\n",
    "max_3pt = isolated_df['MP'].idxmax()\n",
    "max_points = isolated_df.loc[max_3pt,'Name']\n",
    "print(max_points)"
   ]
  },
  {
   "cell_type": "markdown",
   "metadata": {},
   "source": [
    "# What player given their player effiecency rating was the clutchest during the season?"
   ]
  },
  {
   "cell_type": "code",
   "execution_count": 10,
   "metadata": {},
   "outputs": [
    {
     "name": "stdout",
     "output_type": "stream",
     "text": [
      "Zhou Qi\n"
     ]
    }
   ],
   "source": [
    "isolated_df = df[['Name', 'PER']] #\n",
    "max_per = isolated_df['PER'].idxmax()\n",
    "max_points = isolated_df.loc[max_per,'Name']\n",
    "print(max_points)"
   ]
  },
  {
   "cell_type": "markdown",
   "metadata": {},
   "source": [
    "# What team had the youngest roster?"
   ]
  },
  {
   "cell_type": "code",
   "execution_count": 16,
   "metadata": {},
   "outputs": [
    {
     "name": "stdout",
     "output_type": "stream",
     "text": [
      "Chicago Bulls\n"
     ]
    }
   ],
   "source": [
    "isolated_df = df[['Team', 'Age']] #\n",
    "max_per = isolated_df['Age'].min()\n",
    "max_points = isolated_df.loc[max_per,'Team']\n",
    "print(max_points)"
   ]
  },
  {
   "cell_type": "markdown",
   "metadata": {},
   "source": [
    "# Who is the highest paid player during the seasion?"
   ]
  },
  {
   "cell_type": "code",
   "execution_count": 38,
   "metadata": {},
   "outputs": [
    {
     "name": "stdout",
     "output_type": "stream",
     "text": [
      "37457154.0\n",
      "Stephen Curry\n"
     ]
    },
    {
     "name": "stderr",
     "output_type": "stream",
     "text": [
      "C:\\Users\\Sergeant Wiley\\AppData\\Local\\Temp\\ipykernel_31808\\436000604.py:2: SettingWithCopyWarning: \n",
      "A value is trying to be set on a copy of a slice from a DataFrame.\n",
      "Try using .loc[row_indexer,col_indexer] = value instead\n",
      "\n",
      "See the caveats in the documentation: https://pandas.pydata.org/pandas-docs/stable/user_guide/indexing.html#returning-a-view-versus-a-copy\n",
      "  isolated_df['Salary'] = pd.to_numeric(isolated_df['Salary'], errors='coerce')\n"
     ]
    }
   ],
   "source": [
    "isolated_df = df[['Name', 'Salary']] #\n",
    "isolated_df['Salary'] = pd.to_numeric(isolated_df['Salary'], errors='coerce')\n",
    "#Error kept showing up for some unknown reason so I had to do some did digging and this is the only solution I could find\n",
    "#I had to convert all non numbers into Nan so it can be ignored\n",
    "max_per = isolated_df['Salary'].idxmax()\n",
    "max_points = isolated_df.loc[max_per, 'Name']\n",
    "print(isolated_df[isolated_df['Salary']==0.0])\n",
    "print(max_points)"
   ]
  },
  {
   "cell_type": "markdown",
   "metadata": {},
   "source": [
    "# At the end of a game, who WOULDN'T you want on the Free Throw Line?"
   ]
  },
  {
   "cell_type": "code",
   "execution_count": 41,
   "metadata": {},
   "outputs": [
    {
     "name": "stdout",
     "output_type": "stream",
     "text": [
      "                   Name  FT%\n",
      "154         Jacob Evans  0.0\n",
      "221   Haywood Highsmith  0.0\n",
      "268      Terrence Jones  0.0\n",
      "325      Tahjere McCall  0.0\n",
      "356  Donatas Motiejunas  0.0\n",
      "360         Dzanan Musa  0.0\n",
      "502       C.J. Williams  0.0\n",
      "Jacob Evans\n"
     ]
    }
   ],
   "source": [
    "isolated_df = df[['Name', 'FT%']]\n",
    "max_per = isolated_df['FT%'].idxmin()\n",
    "print(isolated_df[isolated_df['FT%']==0.0])\n",
    "max_points = isolated_df.loc[max_per, 'Name']\n",
    "print(max_points)"
   ]
  }
 ],
 "metadata": {
  "kernelspec": {
   "display_name": "Python 3",
   "language": "python",
   "name": "python3"
  },
  "language_info": {
   "codemirror_mode": {
    "name": "ipython",
    "version": 3
   },
   "file_extension": ".py",
   "mimetype": "text/x-python",
   "name": "python",
   "nbconvert_exporter": "python",
   "pygments_lexer": "ipython3",
   "version": "3.11.5"
  }
 },
 "nbformat": 4,
 "nbformat_minor": 2
}
